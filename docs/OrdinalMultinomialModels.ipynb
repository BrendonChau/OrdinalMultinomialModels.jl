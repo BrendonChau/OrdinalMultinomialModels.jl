{
 "cells": [
  {
   "cell_type": "markdown",
   "metadata": {},
   "source": [
    "# OrdinalMultinomialModels.jl\n",
    "\n",
    "OrdinalMultinomialModels.jl provides Julia utilities to fit ordered multinomial models, including [proportional odds model](https://en.wikipedia.org/wiki/Ordered_logit) and [ordered Probit model](https://en.wikipedia.org/wiki/Ordered_probit) as special cases. "
   ]
  },
  {
   "cell_type": "markdown",
   "metadata": {},
   "source": [
    "## Installation\n",
    "\n",
    "This package requires Julia v0.7 or later. The package has not yet been registered and must be installed using the repository location. Start julia and use the `]` key to switch to the package manager REPL\n",
    "```julia\n",
    "(v1.0) pkg> add https://github.com/OpenMendel/OrdinalMultinomialModels.jl.git\n",
    "```"
   ]
  },
  {
   "cell_type": "code",
   "execution_count": 1,
   "metadata": {},
   "outputs": [
    {
     "name": "stdout",
     "output_type": "stream",
     "text": [
      "Julia Version 1.0.3\n",
      "Commit 099e826241 (2018-12-18 01:34 UTC)\n",
      "Platform Info:\n",
      "  OS: macOS (x86_64-apple-darwin14.5.0)\n",
      "  CPU: Intel(R) Core(TM) i7-6920HQ CPU @ 2.90GHz\n",
      "  WORD_SIZE: 64\n",
      "  LIBM: libopenlibm\n",
      "  LLVM: libLLVM-6.0.0 (ORCJIT, skylake)\n",
      "Environment:\n",
      "  JULIA_EDITOR = code\n"
     ]
    }
   ],
   "source": [
    "# Machine info for results in this tutorial\n",
    "versioninfo()"
   ]
  },
  {
   "cell_type": "code",
   "execution_count": 2,
   "metadata": {
    "collapsed": true
   },
   "outputs": [],
   "source": [
    "# for use in this tutorial\n",
    "using OrdinalMultinomialModels, BenchmarkTools"
   ]
  },
  {
   "cell_type": "markdown",
   "metadata": {},
   "source": [
    "## Example data\n",
    "\n",
    "`housing` is a data set from R package [MASS](https://cran.r-project.org/web/packages/MASS/index.html). The outcome of interest is `Sat` (satisfication) that takes values `Low`, `Medium`, or `High`. Predictors include `Infl` (inflation, categorical), `Type` (housing type, categorical), and `Cont` (categorical). `Freq` codes number of observation for each combination of levels."
   ]
  },
  {
   "cell_type": "code",
   "execution_count": 3,
   "metadata": {
    "scrolled": true
   },
   "outputs": [
    {
     "data": {
      "text/html": [
       "<table class=\"data-frame\"><thead><tr><th></th><th>Sat</th><th>Infl</th><th>Type</th><th>Cont</th><th>Freq</th></tr><tr><th></th><th>Categorical…</th><th>Categorical…</th><th>Categorical…</th><th>Categorical…</th><th>Int32</th></tr></thead><tbody><p>72 rows × 5 columns</p><tr><th>1</th><td>Low</td><td>Low</td><td>Tower</td><td>Low</td><td>21</td></tr><tr><th>2</th><td>Medium</td><td>Low</td><td>Tower</td><td>Low</td><td>21</td></tr><tr><th>3</th><td>High</td><td>Low</td><td>Tower</td><td>Low</td><td>28</td></tr><tr><th>4</th><td>Low</td><td>Medium</td><td>Tower</td><td>Low</td><td>34</td></tr><tr><th>5</th><td>Medium</td><td>Medium</td><td>Tower</td><td>Low</td><td>22</td></tr><tr><th>6</th><td>High</td><td>Medium</td><td>Tower</td><td>Low</td><td>36</td></tr><tr><th>7</th><td>Low</td><td>High</td><td>Tower</td><td>Low</td><td>10</td></tr><tr><th>8</th><td>Medium</td><td>High</td><td>Tower</td><td>Low</td><td>11</td></tr><tr><th>9</th><td>High</td><td>High</td><td>Tower</td><td>Low</td><td>36</td></tr><tr><th>10</th><td>Low</td><td>Low</td><td>Apartment</td><td>Low</td><td>61</td></tr><tr><th>11</th><td>Medium</td><td>Low</td><td>Apartment</td><td>Low</td><td>23</td></tr><tr><th>12</th><td>High</td><td>Low</td><td>Apartment</td><td>Low</td><td>17</td></tr><tr><th>13</th><td>Low</td><td>Medium</td><td>Apartment</td><td>Low</td><td>43</td></tr><tr><th>14</th><td>Medium</td><td>Medium</td><td>Apartment</td><td>Low</td><td>35</td></tr><tr><th>15</th><td>High</td><td>Medium</td><td>Apartment</td><td>Low</td><td>40</td></tr><tr><th>16</th><td>Low</td><td>High</td><td>Apartment</td><td>Low</td><td>26</td></tr><tr><th>17</th><td>Medium</td><td>High</td><td>Apartment</td><td>Low</td><td>18</td></tr><tr><th>18</th><td>High</td><td>High</td><td>Apartment</td><td>Low</td><td>54</td></tr><tr><th>19</th><td>Low</td><td>Low</td><td>Atrium</td><td>Low</td><td>13</td></tr><tr><th>20</th><td>Medium</td><td>Low</td><td>Atrium</td><td>Low</td><td>9</td></tr><tr><th>21</th><td>High</td><td>Low</td><td>Atrium</td><td>Low</td><td>10</td></tr><tr><th>22</th><td>Low</td><td>Medium</td><td>Atrium</td><td>Low</td><td>8</td></tr><tr><th>23</th><td>Medium</td><td>Medium</td><td>Atrium</td><td>Low</td><td>8</td></tr><tr><th>24</th><td>High</td><td>Medium</td><td>Atrium</td><td>Low</td><td>12</td></tr><tr><th>25</th><td>Low</td><td>High</td><td>Atrium</td><td>Low</td><td>6</td></tr><tr><th>26</th><td>Medium</td><td>High</td><td>Atrium</td><td>Low</td><td>7</td></tr><tr><th>27</th><td>High</td><td>High</td><td>Atrium</td><td>Low</td><td>9</td></tr><tr><th>28</th><td>Low</td><td>Low</td><td>Terrace</td><td>Low</td><td>18</td></tr><tr><th>29</th><td>Medium</td><td>Low</td><td>Terrace</td><td>Low</td><td>6</td></tr><tr><th>30</th><td>High</td><td>Low</td><td>Terrace</td><td>Low</td><td>7</td></tr><tr><th>&vellip;</th><td>&vellip;</td><td>&vellip;</td><td>&vellip;</td><td>&vellip;</td><td>&vellip;</td></tr></tbody></table>"
      ],
      "text/latex": [
       "\\begin{tabular}{r|ccccc}\n",
       "\t& Sat & Infl & Type & Cont & Freq\\\\\n",
       "\t\\hline\n",
       "\t& Categorical… & Categorical… & Categorical… & Categorical… & Int32\\\\\n",
       "\t\\hline\n",
       "\t1 & Low & Low & Tower & Low & 21 \\\\\n",
       "\t2 & Medium & Low & Tower & Low & 21 \\\\\n",
       "\t3 & High & Low & Tower & Low & 28 \\\\\n",
       "\t4 & Low & Medium & Tower & Low & 34 \\\\\n",
       "\t5 & Medium & Medium & Tower & Low & 22 \\\\\n",
       "\t6 & High & Medium & Tower & Low & 36 \\\\\n",
       "\t7 & Low & High & Tower & Low & 10 \\\\\n",
       "\t8 & Medium & High & Tower & Low & 11 \\\\\n",
       "\t9 & High & High & Tower & Low & 36 \\\\\n",
       "\t10 & Low & Low & Apartment & Low & 61 \\\\\n",
       "\t11 & Medium & Low & Apartment & Low & 23 \\\\\n",
       "\t12 & High & Low & Apartment & Low & 17 \\\\\n",
       "\t13 & Low & Medium & Apartment & Low & 43 \\\\\n",
       "\t14 & Medium & Medium & Apartment & Low & 35 \\\\\n",
       "\t15 & High & Medium & Apartment & Low & 40 \\\\\n",
       "\t16 & Low & High & Apartment & Low & 26 \\\\\n",
       "\t17 & Medium & High & Apartment & Low & 18 \\\\\n",
       "\t18 & High & High & Apartment & Low & 54 \\\\\n",
       "\t19 & Low & Low & Atrium & Low & 13 \\\\\n",
       "\t20 & Medium & Low & Atrium & Low & 9 \\\\\n",
       "\t21 & High & Low & Atrium & Low & 10 \\\\\n",
       "\t22 & Low & Medium & Atrium & Low & 8 \\\\\n",
       "\t23 & Medium & Medium & Atrium & Low & 8 \\\\\n",
       "\t24 & High & Medium & Atrium & Low & 12 \\\\\n",
       "\t25 & Low & High & Atrium & Low & 6 \\\\\n",
       "\t26 & Medium & High & Atrium & Low & 7 \\\\\n",
       "\t27 & High & High & Atrium & Low & 9 \\\\\n",
       "\t28 & Low & Low & Terrace & Low & 18 \\\\\n",
       "\t29 & Medium & Low & Terrace & Low & 6 \\\\\n",
       "\t30 & High & Low & Terrace & Low & 7 \\\\\n",
       "\t$\\dots$ & $\\dots$ & $\\dots$ & $\\dots$ & $\\dots$ & $\\dots$ \\\\\n",
       "\\end{tabular}\n"
      ],
      "text/plain": [
       "72×5 DataFrame\n",
       "│ Row │ Sat          │ Infl         │ Type         │ Cont         │ Freq  │\n",
       "│     │ \u001b[90mCategorical…\u001b[39m │ \u001b[90mCategorical…\u001b[39m │ \u001b[90mCategorical…\u001b[39m │ \u001b[90mCategorical…\u001b[39m │ \u001b[90mInt32\u001b[39m │\n",
       "├─────┼──────────────┼──────────────┼──────────────┼──────────────┼───────┤\n",
       "│ 1   │ Low          │ Low          │ Tower        │ Low          │ 21    │\n",
       "│ 2   │ Medium       │ Low          │ Tower        │ Low          │ 21    │\n",
       "│ 3   │ High         │ Low          │ Tower        │ Low          │ 28    │\n",
       "│ 4   │ Low          │ Medium       │ Tower        │ Low          │ 34    │\n",
       "│ 5   │ Medium       │ Medium       │ Tower        │ Low          │ 22    │\n",
       "│ 6   │ High         │ Medium       │ Tower        │ Low          │ 36    │\n",
       "│ 7   │ Low          │ High         │ Tower        │ Low          │ 10    │\n",
       "│ 8   │ Medium       │ High         │ Tower        │ Low          │ 11    │\n",
       "│ 9   │ High         │ High         │ Tower        │ Low          │ 36    │\n",
       "│ 10  │ Low          │ Low          │ Apartment    │ Low          │ 61    │\n",
       "⋮\n",
       "│ 62  │ Medium       │ High         │ Atrium       │ High         │ 10    │\n",
       "│ 63  │ High         │ High         │ Atrium       │ High         │ 21    │\n",
       "│ 64  │ Low          │ Low          │ Terrace      │ High         │ 57    │\n",
       "│ 65  │ Medium       │ Low          │ Terrace      │ High         │ 23    │\n",
       "│ 66  │ High         │ Low          │ Terrace      │ High         │ 13    │\n",
       "│ 67  │ Low          │ Medium       │ Terrace      │ High         │ 31    │\n",
       "│ 68  │ Medium       │ Medium       │ Terrace      │ High         │ 21    │\n",
       "│ 69  │ High         │ Medium       │ Terrace      │ High         │ 13    │\n",
       "│ 70  │ Low          │ High         │ Terrace      │ High         │ 5     │\n",
       "│ 71  │ Medium       │ High         │ Terrace      │ High         │ 6     │\n",
       "│ 72  │ High         │ High         │ Terrace      │ High         │ 13    │"
      ]
     },
     "execution_count": 3,
     "metadata": {},
     "output_type": "execute_result"
    }
   ],
   "source": [
    "using RDatasets\n",
    "\n",
    "housing = dataset(\"MASS\", \"housing\")"
   ]
  },
  {
   "cell_type": "markdown",
   "metadata": {},
   "source": [
    "There are 72 unique combination of levels and the total number of observations is 1,681."
   ]
  },
  {
   "cell_type": "code",
   "execution_count": 4,
   "metadata": {},
   "outputs": [
    {
     "data": {
      "text/plain": [
       "(72, 1681)"
      ]
     },
     "execution_count": 4,
     "metadata": {},
     "output_type": "execute_result"
    }
   ],
   "source": [
    "size(housing, 1), sum(housing[:Freq])"
   ]
  },
  {
   "cell_type": "markdown",
   "metadata": {},
   "source": [
    "## Syntax\n",
    "\n",
    "`polr` is the main function of fitting ordered multinomial model. For documentation, type `?polr` at Julia REPL.\n",
    "```@docs\n",
    "polr\n",
    "```"
   ]
  },
  {
   "cell_type": "markdown",
   "metadata": {},
   "source": [
    "## Fit ordered multinomial models\n",
    "\n",
    "### Proportional odds model\n",
    "\n",
    "To fit an ordered multinomial model using default link `link=LogitLink()`, i.e., proportional odds model"
   ]
  },
  {
   "cell_type": "code",
   "execution_count": 5,
   "metadata": {},
   "outputs": [
    {
     "data": {
      "text/plain": [
       "StatsModels.DataFrameRegressionModel{OrdinalMultinomialModel{Int64,Float64,LogitLink},Array{Float64,2}}\n",
       "\n",
       "Formula: Sat ~ Infl + Type + Cont\n",
       "\n",
       "Coefficients:\n",
       "      Estimate Std.Error  t value Pr(>|t|)\n",
       "θ1   -0.496141  0.124541 -3.98376   0.0002\n",
       "θ2    0.690706  0.125212  5.51628    <1e-6\n",
       "β1    0.566392  0.104963  5.39611    <1e-5\n",
       "β2     1.28881  0.126705  10.1718   <1e-14\n",
       "β3   -0.572352  0.118747 -4.81991    <1e-5\n",
       "β4   -0.366182  0.156766 -2.33586   0.0226\n",
       "β5    -1.09101  0.151514 -7.20075    <1e-9\n",
       "β6    0.360284 0.0953574  3.77825   0.0003\n"
      ]
     },
     "execution_count": 5,
     "metadata": {},
     "output_type": "execute_result"
    }
   ],
   "source": [
    "house_po = polr(@formula(Sat ~ Infl + Type + Cont), housing, wts = housing[:Freq])"
   ]
  },
  {
   "cell_type": "markdown",
   "metadata": {},
   "source": [
    "Since there are $J=3$ categories in `Sat`, the fitted model has 2 intercept parameters $\\theta_1$ and $\\theta_2$ that satisfy $\\theta_1 \\le \\theta_2$. $\\beta_1, \\beta_2$ are regression coefficients for `Infl` (3 levels), $\\beta_3, \\beta_4, \\beta_5$ for `Type` (4 levels), and $\\beta_6$ for `Cont` (2 levels). \n",
    "\n",
    "Deviance (-2 loglikelihood) of the fitted model is"
   ]
  },
  {
   "cell_type": "code",
   "execution_count": 6,
   "metadata": {},
   "outputs": [
    {
     "data": {
      "text/plain": [
       "3479.149299072586"
      ]
     },
     "execution_count": 6,
     "metadata": {},
     "output_type": "execute_result"
    }
   ],
   "source": [
    "deviance(house_po)"
   ]
  },
  {
   "cell_type": "markdown",
   "metadata": {},
   "source": [
    "Estimated regression coefficients are"
   ]
  },
  {
   "cell_type": "code",
   "execution_count": 7,
   "metadata": {},
   "outputs": [
    {
     "data": {
      "text/plain": [
       "8-element Array{Float64,1}:\n",
       " -0.4961406134145464 \n",
       "  0.6907056439400198 \n",
       "  0.5663915864515743 \n",
       "  1.288810825003427  \n",
       " -0.5723518911944654 \n",
       " -0.36618227185604263\n",
       " -1.0910115747375622 \n",
       "  0.36028444175284197"
      ]
     },
     "execution_count": 7,
     "metadata": {},
     "output_type": "execute_result"
    }
   ],
   "source": [
    "coef(house_po)"
   ]
  },
  {
   "cell_type": "markdown",
   "metadata": {},
   "source": [
    "with standard errors"
   ]
  },
  {
   "cell_type": "code",
   "execution_count": 8,
   "metadata": {},
   "outputs": [
    {
     "data": {
      "text/plain": [
       "8-element Array{Float64,1}:\n",
       " 0.12454076603722913\n",
       " 0.1252121074560087 \n",
       " 0.10496298447216806\n",
       " 0.1267047666889804 \n",
       " 0.11874734570694132\n",
       " 0.1567658347801272 \n",
       " 0.15151363694373737\n",
       " 0.09535742939732537"
      ]
     },
     "execution_count": 8,
     "metadata": {},
     "output_type": "execute_result"
    }
   ],
   "source": [
    "stderror(house_po)"
   ]
  },
  {
   "cell_type": "markdown",
   "metadata": {},
   "source": [
    "### Ordered probit model\n",
    "\n",
    "To fit an ordered probit model, we use link `ProbitLink()`"
   ]
  },
  {
   "cell_type": "code",
   "execution_count": 9,
   "metadata": {},
   "outputs": [
    {
     "data": {
      "text/plain": [
       "StatsModels.DataFrameRegressionModel{OrdinalMultinomialModel{Int64,Float64,ProbitLink},Array{Float64,2}}\n",
       "\n",
       "Formula: Sat ~ Infl + Type + Cont\n",
       "\n",
       "Coefficients:\n",
       "      Estimate Std.Error  t value Pr(>|t|)\n",
       "θ1   -0.299829 0.0761614 -3.93676   0.0002\n",
       "θ2     0.42672 0.0763991   5.5854    <1e-6\n",
       "β1    0.346423 0.0641796  5.39771    <1e-5\n",
       "β2    0.782914 0.0762645  10.2658   <1e-14\n",
       "β3   -0.347538 0.0722116 -4.81278    <1e-5\n",
       "β4   -0.217889 0.0955741 -2.27979   0.0260\n",
       "β5   -0.664175 0.0919294 -7.22484    <1e-9\n",
       "β6    0.222386 0.0581214  3.82624   0.0003\n"
      ]
     },
     "execution_count": 9,
     "metadata": {},
     "output_type": "execute_result"
    }
   ],
   "source": [
    "house_op = polr(@formula(Sat ~ Infl + Type + Cont), housing, ProbitLink(), wts = housing[:Freq])"
   ]
  },
  {
   "cell_type": "code",
   "execution_count": 10,
   "metadata": {},
   "outputs": [
    {
     "data": {
      "text/plain": [
       "3479.6888425652414"
      ]
     },
     "execution_count": 10,
     "metadata": {},
     "output_type": "execute_result"
    }
   ],
   "source": [
    "deviance(house_op)"
   ]
  },
  {
   "cell_type": "markdown",
   "metadata": {},
   "source": [
    "### Proportional hazards model\n",
    "\n",
    "To fit a proportional hazards model, we use `CloglogLink()`"
   ]
  },
  {
   "cell_type": "code",
   "execution_count": 11,
   "metadata": {},
   "outputs": [
    {
     "data": {
      "text/plain": [
       "StatsModels.DataFrameRegressionModel{OrdinalMultinomialModel{Int64,Float64,CloglogLink},Array{Float64,2}}\n",
       "\n",
       "Formula: Sat ~ Infl + Type + Cont\n",
       "\n",
       "Coefficients:\n",
       "      Estimate Std.Error  t value Pr(>|t|)\n",
       "θ1   -0.796225 0.0904739  -8.8006   <1e-11\n",
       "θ2   0.0553535 0.0866662 0.638697   0.5253\n",
       "β1    0.382045 0.0701219  5.44829    <1e-6\n",
       "β2    0.915384 0.0924967  9.89639   <1e-13\n",
       "β3   -0.407228 0.0861331 -4.72789    <1e-4\n",
       "β4    -0.28056  0.112949 -2.48396   0.0156\n",
       "β5   -0.742481  0.102084 -7.27321    <1e-9\n",
       "β6    0.209235 0.0653756   3.2005   0.0021\n"
      ]
     },
     "execution_count": 11,
     "metadata": {},
     "output_type": "execute_result"
    }
   ],
   "source": [
    "house_ph = polr(@formula(Sat ~ Infl + Type + Cont), housing, CloglogLink(), wts = housing[:Freq])"
   ]
  },
  {
   "cell_type": "code",
   "execution_count": 12,
   "metadata": {},
   "outputs": [
    {
     "data": {
      "text/plain": [
       "3484.0531705626904"
      ]
     },
     "execution_count": 12,
     "metadata": {},
     "output_type": "execute_result"
    }
   ],
   "source": [
    "deviance(house_ph)"
   ]
  },
  {
   "cell_type": "markdown",
   "metadata": {},
   "source": [
    "From the deviances, we see that the proportional odds model (logit link) has the best fit among all three models."
   ]
  },
  {
   "cell_type": "code",
   "execution_count": 13,
   "metadata": {},
   "outputs": [
    {
     "data": {
      "text/plain": [
       "(3479.149299072586, 3479.6888425652414, 3484.0531705626904)"
      ]
     },
     "execution_count": 13,
     "metadata": {},
     "output_type": "execute_result"
    }
   ],
   "source": [
    "deviance(house_po), deviance(house_op), deviance(house_ph)"
   ]
  },
  {
   "cell_type": "markdown",
   "metadata": {},
   "source": [
    "### Alternative syntax without using DataFrame\n",
    "\n",
    "An alternative syntax is useful when it is inconvenient to use DataFrame\n",
    "```julia\n",
    "polr(X, y, link, solver; wts)\n",
    "```\n",
    "where `y` is the response vector and `X` is the `n x p` predictor matrix **excluding** intercept."
   ]
  },
  {
   "cell_type": "markdown",
   "metadata": {},
   "source": [
    "## Optimization algorithms\n",
    "\n",
    "PolrModels.jl relies on nonlinear programming (NLP) optimization algorithms to find the maximum likelihood estimate (MLE). User can input any solver supported by the MathProgBase.jl package (see <http://www.juliaopt.org>) as the 4th argument of `polr` function. Common choices are:  \n",
    "- Ipopt solver: `IpoptSolver(print_level=0)`. See [Ipopt.jl](https://github.com/JuliaOpt/Ipopt.jl) for numerous arugments to `IpoptSolver`. For example, setting `print_level=5` is useful for diagnosis purpose.   \n",
    "- [NLopt package](https://github.com/JuliaOpt/NLopt.jl): `NLoptSolver(algorithm=:LD_SLSQP)`, `NLoptSolver(algorithm=:LD_LBFGS)`. See [NLopt algorithms](https://nlopt.readthedocs.io/en/latest/NLopt_Algorithms/) for all algorithms in [NLopt.jl](https://github.com/JuliaOpt/NLopt.jl).\n",
    "\n",
    "When optimization fails, user can always try another algorithm."
   ]
  },
  {
   "cell_type": "markdown",
   "metadata": {},
   "source": [
    "Use Ipopt (interior-point) solver"
   ]
  },
  {
   "cell_type": "code",
   "execution_count": 14,
   "metadata": {},
   "outputs": [
    {
     "name": "stdout",
     "output_type": "stream",
     "text": [
      "\n",
      "******************************************************************************\n",
      "This program contains Ipopt, a library for large-scale nonlinear optimization.\n",
      " Ipopt is released as open source code under the Eclipse Public License (EPL).\n",
      "         For more information visit http://projects.coin-or.org/Ipopt\n",
      "******************************************************************************\n",
      "\n",
      "Total number of variables............................:        8\n",
      "                     variables with only lower bounds:        0\n",
      "                variables with lower and upper bounds:        0\n",
      "                     variables with only upper bounds:        0\n",
      "Total number of equality constraints.................:        0\n",
      "Total number of inequality constraints...............:        0\n",
      "        inequality constraints with only lower bounds:        0\n",
      "   inequality constraints with lower and upper bounds:        0\n",
      "        inequality constraints with only upper bounds:        0\n",
      "\n",
      "\n",
      "Number of Iterations....: 38\n",
      "\n",
      "                                   (scaled)                 (unscaled)\n",
      "Objective...............:   2.0594068522767617e+02    1.7395746495294738e+03\n",
      "Dual infeasibility......:   8.1478360269928591e-09    6.8824520931403241e-08\n",
      "Constraint violation....:   0.0000000000000000e+00    0.0000000000000000e+00\n",
      "Complementarity.........:   0.0000000000000000e+00    0.0000000000000000e+00\n",
      "Overall NLP error.......:   8.1478360269928591e-09    6.8824520931403241e-08\n",
      "\n",
      "\n",
      "Number of objective function evaluations             = 91\n",
      "Number of objective gradient evaluations             = 39\n",
      "Number of equality constraint evaluations            = 0\n",
      "Number of inequality constraint evaluations          = 0\n",
      "Number of equality constraint Jacobian evaluations   = 0\n",
      "Number of inequality constraint Jacobian evaluations = 0\n",
      "Number of Lagrangian Hessian evaluations             = 0\n",
      "Total CPU secs in IPOPT (w/o function evaluations)   =      0.056\n",
      "Total CPU secs in NLP function evaluations           =      0.005\n",
      "\n",
      "EXIT: Optimal Solution Found.\n"
     ]
    },
    {
     "data": {
      "text/plain": [
       "StatsModels.DataFrameRegressionModel{OrdinalMultinomialModel{Int64,Float64,LogitLink},Array{Float64,2}}\n",
       "\n",
       "Formula: Sat ~ Infl + Type + Cont\n",
       "\n",
       "Coefficients:\n",
       "      Estimate Std.Error  t value Pr(>|t|)\n",
       "θ1   -0.496135  0.124541 -3.98372   0.0002\n",
       "θ2    0.690708  0.125212   5.5163    <1e-6\n",
       "β1    0.566394  0.104963  5.39613    <1e-5\n",
       "β2     1.28882  0.126705  10.1718   <1e-14\n",
       "β3    -0.57235  0.118747  -4.8199    <1e-5\n",
       "β4   -0.366186  0.156766 -2.33588   0.0226\n",
       "β5    -1.09101  0.151514 -7.20077    <1e-9\n",
       "β6    0.360284 0.0953575  3.77825   0.0003\n"
      ]
     },
     "execution_count": 14,
     "metadata": {},
     "output_type": "execute_result"
    }
   ],
   "source": [
    "polr(@formula(Sat ~ Infl + Type + Cont), housing, LogitLink(), \n",
    "    IpoptSolver(print_level=3); wts = housing[:Freq])"
   ]
  },
  {
   "cell_type": "markdown",
   "metadata": {},
   "source": [
    "Use SLSQP (sequential quadratic programming) in NLopt.jl package"
   ]
  },
  {
   "cell_type": "code",
   "execution_count": 15,
   "metadata": {},
   "outputs": [
    {
     "data": {
      "text/plain": [
       "StatsModels.DataFrameRegressionModel{OrdinalMultinomialModel{Int64,Float64,LogitLink},Array{Float64,2}}\n",
       "\n",
       "Formula: Sat ~ Infl + Type + Cont\n",
       "\n",
       "Coefficients:\n",
       "      Estimate Std.Error  t value Pr(>|t|)\n",
       "θ1   -0.496141  0.124541 -3.98376   0.0002\n",
       "θ2    0.690706  0.125212  5.51628    <1e-6\n",
       "β1    0.566392  0.104963  5.39611    <1e-5\n",
       "β2     1.28881  0.126705  10.1718   <1e-14\n",
       "β3   -0.572352  0.118747 -4.81991    <1e-5\n",
       "β4   -0.366182  0.156766 -2.33586   0.0226\n",
       "β5    -1.09101  0.151514 -7.20075    <1e-9\n",
       "β6    0.360284 0.0953574  3.77825   0.0003\n"
      ]
     },
     "execution_count": 15,
     "metadata": {},
     "output_type": "execute_result"
    }
   ],
   "source": [
    "polr(@formula(Sat ~ Infl + Type + Cont), housing, LogitLink(), \n",
    "    NLoptSolver(algorithm=:LD_SLSQP); wts = housing[:Freq])"
   ]
  },
  {
   "cell_type": "markdown",
   "metadata": {},
   "source": [
    "Use LBFGS (quasi-Newton algorithm) in NLopt.jl package"
   ]
  },
  {
   "cell_type": "code",
   "execution_count": 16,
   "metadata": {},
   "outputs": [
    {
     "data": {
      "text/plain": [
       "StatsModels.DataFrameRegressionModel{OrdinalMultinomialModel{Int64,Float64,LogitLink},Array{Float64,2}}\n",
       "\n",
       "Formula: Sat ~ Infl + Type + Cont\n",
       "\n",
       "Coefficients:\n",
       "      Estimate Std.Error  t value Pr(>|t|)\n",
       "θ1   -0.496111  0.124541 -3.98353   0.0002\n",
       "θ2    0.690732  0.125212  5.51649    <1e-6\n",
       "β1    0.566394  0.104963  5.39613    <1e-5\n",
       "β2     1.28882  0.126705  10.1718   <1e-14\n",
       "β3   -0.572352  0.118747 -4.81991    <1e-5\n",
       "β4    -0.36616  0.156766 -2.33571   0.0227\n",
       "β5    -1.09102  0.151514  -7.2008    <1e-9\n",
       "β6    0.360319 0.0953575  3.77861   0.0003\n"
      ]
     },
     "execution_count": 16,
     "metadata": {},
     "output_type": "execute_result"
    }
   ],
   "source": [
    "polr(@formula(Sat ~ 0 + Infl + Type + Cont), housing, LogitLink(), \n",
    "    NLoptSolver(algorithm=:LD_LBFGS); wts = housing[:Freq])"
   ]
  },
  {
   "cell_type": "markdown",
   "metadata": {},
   "source": [
    "## Likelihood ratio test (LRT)\n",
    "\n",
    "`polr` function calculates the Wald test (or t-test) p-value for each predictor in the model. To carry out the potentially more powerful likelihood ratio test (LRT), we need to fill the null and alternative models separately.\n",
    "\n",
    "**Step 1**: Fit the null model with only `Infl` and `Type` factors."
   ]
  },
  {
   "cell_type": "code",
   "execution_count": 17,
   "metadata": {},
   "outputs": [
    {
     "data": {
      "text/plain": [
       "StatsModels.DataFrameRegressionModel{OrdinalMultinomialModel{Int64,Float64,LogitLink},Array{Float64,2}}\n",
       "\n",
       "Formula: Sat ~ Infl + Type\n",
       "\n",
       "Coefficients:\n",
       "      Estimate Std.Error  t value Pr(>|t|)\n",
       "θ1   -0.672949  0.115559 -5.82341    <1e-6\n",
       "θ2    0.505629  0.115147  4.39116    <1e-4\n",
       "β1    0.548392  0.104613  5.24213    <1e-5\n",
       "β2      1.2373  0.125448  9.86306   <1e-13\n",
       "β3   -0.521441  0.117616 -4.43341    <1e-4\n",
       "β4   -0.289347  0.155074 -1.86587   0.0666\n",
       "β5    -1.01404   0.14976  -6.7711    <1e-8\n"
      ]
     },
     "execution_count": 17,
     "metadata": {},
     "output_type": "execute_result"
    }
   ],
   "source": [
    "house_null = polr(@formula(Sat ~ Infl + Type), housing; wts = housing[:Freq])"
   ]
  },
  {
   "cell_type": "markdown",
   "metadata": {},
   "source": [
    "**Step 2**: To test significance of the `Cont` variable, we use `polrtest` function. The first argument is the fitted null model, the second argument is the predictor vector to be tested"
   ]
  },
  {
   "cell_type": "code",
   "execution_count": 18,
   "metadata": {},
   "outputs": [
    {
     "data": {
      "text/plain": [
       "0.000155351855453278"
      ]
     },
     "execution_count": 18,
     "metadata": {},
     "output_type": "execute_result"
    }
   ],
   "source": [
    "# last column of model matrix is coding for Cont (2-level factor)\n",
    "cont = modelmatrix(house_po.model)[:, end]\n",
    "# calculate p-value\n",
    "polrtest(house_null, cont; test=:LRT)"
   ]
  },
  {
   "cell_type": "markdown",
   "metadata": {},
   "source": [
    "## Score test\n",
    "\n",
    "User can perform **score test** using the `polrtest` function too. Score test has the advantage that, when testing a huge number of predictors such as in genomewide association studies (GWAS), one only needs to fit the null model once and then testing each predictor is cheap. Both Wald and likelihood ratio test (LRT) need to fit a separate alternative model for each predictor being tested.\n",
    "\n",
    "**Step 1**: Fit the null model with only `Infl` and `Type` factors."
   ]
  },
  {
   "cell_type": "code",
   "execution_count": 19,
   "metadata": {},
   "outputs": [
    {
     "data": {
      "text/plain": [
       "StatsModels.DataFrameRegressionModel{OrdinalMultinomialModel{Int64,Float64,LogitLink},Array{Float64,2}}\n",
       "\n",
       "Formula: Sat ~ Infl + Type\n",
       "\n",
       "Coefficients:\n",
       "      Estimate Std.Error  t value Pr(>|t|)\n",
       "θ1   -0.672949  0.115559 -5.82341    <1e-6\n",
       "θ2    0.505629  0.115147  4.39116    <1e-4\n",
       "β1    0.548392  0.104613  5.24213    <1e-5\n",
       "β2      1.2373  0.125448  9.86306   <1e-13\n",
       "β3   -0.521441  0.117616 -4.43341    <1e-4\n",
       "β4   -0.289347  0.155074 -1.86587   0.0666\n",
       "β5    -1.01404   0.14976  -6.7711    <1e-8\n"
      ]
     },
     "execution_count": 19,
     "metadata": {},
     "output_type": "execute_result"
    }
   ],
   "source": [
    "house_null = polr(@formula(Sat ~ Infl + Type), housing; wts = housing[:Freq])"
   ]
  },
  {
   "cell_type": "markdown",
   "metadata": {},
   "source": [
    "**Step 2**: To test significance of the `Cont` variable, we use `polrtest` function. The first argument is the fitted null model, the second argument is the predictor vector to be tested"
   ]
  },
  {
   "cell_type": "code",
   "execution_count": 20,
   "metadata": {},
   "outputs": [
    {
     "data": {
      "text/plain": [
       "0.0001648743597587817"
      ]
     },
     "execution_count": 20,
     "metadata": {},
     "output_type": "execute_result"
    }
   ],
   "source": [
    "# last column of model matrix is coding for Cont (2-level factor)\n",
    "cont = modelmatrix(house_po.model)[:, end]\n",
    "# calculate p-value\n",
    "polrtest(house_null, cont; test=:score)"
   ]
  },
  {
   "cell_type": "markdown",
   "metadata": {},
   "source": [
    "**Step 3**: Now suppose we want to test significance of another predictor, `z1`. We just need to call `polrtest` with `z1` and the same fiited null model. No model fitting is needed.\n",
    "\n",
    "For demonstration purpose, we generate `z1` randomly. The score test p-value of `z1` is, not suprisingly, large."
   ]
  },
  {
   "cell_type": "code",
   "execution_count": 21,
   "metadata": {},
   "outputs": [
    {
     "data": {
      "text/plain": [
       "2.1636960843690103e-8"
      ]
     },
     "execution_count": 21,
     "metadata": {},
     "output_type": "execute_result"
    }
   ],
   "source": [
    "z1 = randn(nobs(house_null))\n",
    "polrtest(house_null, z1)"
   ]
  },
  {
   "cell_type": "markdown",
   "metadata": {},
   "source": [
    "**Step 4**: We can also test a set of precitors or a factor."
   ]
  },
  {
   "cell_type": "code",
   "execution_count": 22,
   "metadata": {},
   "outputs": [
    {
     "data": {
      "text/plain": [
       "6.604009932187192e-26"
      ]
     },
     "execution_count": 22,
     "metadata": {},
     "output_type": "execute_result"
    }
   ],
   "source": [
    "z3 = randn(nobs(house_null), 3)\n",
    "polrtest(house_null, z3)"
   ]
  }
 ],
 "metadata": {
  "kernelspec": {
   "display_name": "Julia 1.0.3",
   "language": "julia",
   "name": "julia-1.0"
  },
  "language_info": {
   "file_extension": ".jl",
   "mimetype": "application/julia",
   "name": "julia",
   "version": "1.0.3"
  },
  "toc": {
   "colors": {
    "hover_highlight": "#DAA520",
    "running_highlight": "#FF0000",
    "selected_highlight": "#FFD700"
   },
   "moveMenuLeft": true,
   "nav_menu": {
    "height": "210px",
    "width": "252px"
   },
   "navigate_menu": true,
   "number_sections": true,
   "sideBar": true,
   "threshold": 4,
   "toc_cell": false,
   "toc_section_display": "block",
   "toc_window_display": true,
   "widenNotebook": false
  }
 },
 "nbformat": 4,
 "nbformat_minor": 2
}
