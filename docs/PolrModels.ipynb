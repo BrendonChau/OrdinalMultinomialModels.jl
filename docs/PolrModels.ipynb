{
 "cells": [
  {
   "cell_type": "markdown",
   "metadata": {},
   "source": [
    "# PolrModels.jl\n",
    "\n",
    "PolrModels.jl provides Julia utilities to fit ordered multinomial models."
   ]
  },
  {
   "cell_type": "markdown",
   "metadata": {},
   "source": [
    "## Installation\n",
    "\n",
    "This package requires Julia v0.7 or later. The package has not yet been registered and must be installed using the repository location. Start julia and use the `]` key to switch to the package manager REPL\n",
    "```julia\n",
    "(v0.7) pkg> add https://github.com/Hua-Zhou/PolrModels.git#v0.7\n",
    "```"
   ]
  },
  {
   "cell_type": "code",
   "execution_count": 1,
   "metadata": {},
   "outputs": [
    {
     "name": "stdout",
     "output_type": "stream",
     "text": [
      "Julia Version 0.7.0\n",
      "Commit a4cb80f3ed (2018-08-08 06:46 UTC)\n",
      "Platform Info:\n",
      "  OS: macOS (x86_64-apple-darwin14.5.0)\n",
      "  CPU: Intel(R) Core(TM) i7-6920HQ CPU @ 2.90GHz\n",
      "  WORD_SIZE: 64\n",
      "  LIBM: libopenlibm\n",
      "  LLVM: libLLVM-6.0.0 (ORCJIT, skylake)\n",
      "Environment:\n",
      "  JULIA_EDITOR = code\n"
     ]
    }
   ],
   "source": [
    "versioninfo()"
   ]
  },
  {
   "cell_type": "code",
   "execution_count": 2,
   "metadata": {},
   "outputs": [],
   "source": [
    "using PolrModels, BenchmarkTools"
   ]
  },
  {
   "cell_type": "markdown",
   "metadata": {},
   "source": [
    "## Example data\n",
    "\n",
    "`housing` is a data set from R package `MASS`. The outcome of interest is `Sat` (satisfication) that takes values `Low`, `Medium`, or `High`. Predictors include `Infl` (inflation, categorical), `Type` (housing type, categorical), and `Cont` (categorical). `Freq` codes number of observation for each combination of levels."
   ]
  },
  {
   "cell_type": "code",
   "execution_count": 3,
   "metadata": {
    "scrolled": true
   },
   "outputs": [
    {
     "data": {
      "text/html": [
       "<table class=\"data-frame\"><thead><tr><th></th><th>Sat</th><th>Infl</th><th>Type</th><th>Cont</th><th>Freq</th></tr><tr><th></th><th>Categorical…</th><th>Categorical…</th><th>Categorical…</th><th>Categorical…</th><th>Int32</th></tr></thead><tbody><tr><th>1</th><td>Low</td><td>Low</td><td>Tower</td><td>Low</td><td>21</td></tr><tr><th>2</th><td>Medium</td><td>Low</td><td>Tower</td><td>Low</td><td>21</td></tr><tr><th>3</th><td>High</td><td>Low</td><td>Tower</td><td>Low</td><td>28</td></tr><tr><th>4</th><td>Low</td><td>Medium</td><td>Tower</td><td>Low</td><td>34</td></tr><tr><th>5</th><td>Medium</td><td>Medium</td><td>Tower</td><td>Low</td><td>22</td></tr><tr><th>6</th><td>High</td><td>Medium</td><td>Tower</td><td>Low</td><td>36</td></tr><tr><th>7</th><td>Low</td><td>High</td><td>Tower</td><td>Low</td><td>10</td></tr><tr><th>8</th><td>Medium</td><td>High</td><td>Tower</td><td>Low</td><td>11</td></tr><tr><th>9</th><td>High</td><td>High</td><td>Tower</td><td>Low</td><td>36</td></tr><tr><th>10</th><td>Low</td><td>Low</td><td>Apartment</td><td>Low</td><td>61</td></tr><tr><th>11</th><td>Medium</td><td>Low</td><td>Apartment</td><td>Low</td><td>23</td></tr><tr><th>12</th><td>High</td><td>Low</td><td>Apartment</td><td>Low</td><td>17</td></tr><tr><th>13</th><td>Low</td><td>Medium</td><td>Apartment</td><td>Low</td><td>43</td></tr><tr><th>14</th><td>Medium</td><td>Medium</td><td>Apartment</td><td>Low</td><td>35</td></tr><tr><th>15</th><td>High</td><td>Medium</td><td>Apartment</td><td>Low</td><td>40</td></tr><tr><th>16</th><td>Low</td><td>High</td><td>Apartment</td><td>Low</td><td>26</td></tr><tr><th>17</th><td>Medium</td><td>High</td><td>Apartment</td><td>Low</td><td>18</td></tr><tr><th>18</th><td>High</td><td>High</td><td>Apartment</td><td>Low</td><td>54</td></tr><tr><th>19</th><td>Low</td><td>Low</td><td>Atrium</td><td>Low</td><td>13</td></tr><tr><th>20</th><td>Medium</td><td>Low</td><td>Atrium</td><td>Low</td><td>9</td></tr><tr><th>21</th><td>High</td><td>Low</td><td>Atrium</td><td>Low</td><td>10</td></tr><tr><th>22</th><td>Low</td><td>Medium</td><td>Atrium</td><td>Low</td><td>8</td></tr><tr><th>23</th><td>Medium</td><td>Medium</td><td>Atrium</td><td>Low</td><td>8</td></tr><tr><th>24</th><td>High</td><td>Medium</td><td>Atrium</td><td>Low</td><td>12</td></tr><tr><th>25</th><td>Low</td><td>High</td><td>Atrium</td><td>Low</td><td>6</td></tr><tr><th>26</th><td>Medium</td><td>High</td><td>Atrium</td><td>Low</td><td>7</td></tr><tr><th>27</th><td>High</td><td>High</td><td>Atrium</td><td>Low</td><td>9</td></tr><tr><th>28</th><td>Low</td><td>Low</td><td>Terrace</td><td>Low</td><td>18</td></tr><tr><th>29</th><td>Medium</td><td>Low</td><td>Terrace</td><td>Low</td><td>6</td></tr><tr><th>30</th><td>High</td><td>Low</td><td>Terrace</td><td>Low</td><td>7</td></tr><tr><th>&vellip;</th><td>&vellip;</td><td>&vellip;</td><td>&vellip;</td><td>&vellip;</td><td>&vellip;</td></tr></tbody></table>"
      ],
      "text/plain": [
       "72×5 DataFrame\n",
       "│ Row │ Sat          │ Infl         │ Type         │ Cont         │ Freq  │\n",
       "│     │ \u001b[90mCategorical…\u001b[39m │ \u001b[90mCategorical…\u001b[39m │ \u001b[90mCategorical…\u001b[39m │ \u001b[90mCategorical…\u001b[39m │ \u001b[90mInt32\u001b[39m │\n",
       "├─────┼──────────────┼──────────────┼──────────────┼──────────────┼───────┤\n",
       "│ 1   │ Low          │ Low          │ Tower        │ Low          │ 21    │\n",
       "│ 2   │ Medium       │ Low          │ Tower        │ Low          │ 21    │\n",
       "│ 3   │ High         │ Low          │ Tower        │ Low          │ 28    │\n",
       "│ 4   │ Low          │ Medium       │ Tower        │ Low          │ 34    │\n",
       "│ 5   │ Medium       │ Medium       │ Tower        │ Low          │ 22    │\n",
       "│ 6   │ High         │ Medium       │ Tower        │ Low          │ 36    │\n",
       "│ 7   │ Low          │ High         │ Tower        │ Low          │ 10    │\n",
       "│ 8   │ Medium       │ High         │ Tower        │ Low          │ 11    │\n",
       "│ 9   │ High         │ High         │ Tower        │ Low          │ 36    │\n",
       "│ 10  │ Low          │ Low          │ Apartment    │ Low          │ 61    │\n",
       "⋮\n",
       "│ 62  │ Medium       │ High         │ Atrium       │ High         │ 10    │\n",
       "│ 63  │ High         │ High         │ Atrium       │ High         │ 21    │\n",
       "│ 64  │ Low          │ Low          │ Terrace      │ High         │ 57    │\n",
       "│ 65  │ Medium       │ Low          │ Terrace      │ High         │ 23    │\n",
       "│ 66  │ High         │ Low          │ Terrace      │ High         │ 13    │\n",
       "│ 67  │ Low          │ Medium       │ Terrace      │ High         │ 31    │\n",
       "│ 68  │ Medium       │ Medium       │ Terrace      │ High         │ 21    │\n",
       "│ 69  │ High         │ Medium       │ Terrace      │ High         │ 13    │\n",
       "│ 70  │ Low          │ High         │ Terrace      │ High         │ 5     │\n",
       "│ 71  │ Medium       │ High         │ Terrace      │ High         │ 6     │\n",
       "│ 72  │ High         │ High         │ Terrace      │ High         │ 13    │"
      ]
     },
     "execution_count": 3,
     "metadata": {},
     "output_type": "execute_result"
    }
   ],
   "source": [
    "using RDatasets\n",
    "\n",
    "housing = dataset(\"MASS\", \"housing\")"
   ]
  },
  {
   "cell_type": "markdown",
   "metadata": {},
   "source": [
    "Total number of observations is"
   ]
  },
  {
   "cell_type": "code",
   "execution_count": 4,
   "metadata": {},
   "outputs": [
    {
     "data": {
      "text/plain": [
       "1681"
      ]
     },
     "execution_count": 4,
     "metadata": {},
     "output_type": "execute_result"
    }
   ],
   "source": [
    "sum(housing[:Freq])"
   ]
  },
  {
   "cell_type": "markdown",
   "metadata": {},
   "source": [
    "## Fit ordered multinomial models\n",
    "\n",
    "### Proportional odds model\n",
    "\n",
    "To fit an ordered multinomial model using default link `link=LogitLink()`, i.e., proportional odds model"
   ]
  },
  {
   "cell_type": "code",
   "execution_count": 5,
   "metadata": {},
   "outputs": [
    {
     "data": {
      "text/plain": [
       "StatsModels.DataFrameRegressionModel{PolrModel{Int64,Float64,LogitLink},Array{Float64,2}}\n",
       "\n",
       "Formula: Sat ~ Infl + Type + Cont\n",
       "\n",
       "Coefficients:\n",
       "      Estimate Std.Error  t value Pr(>|t|)\n",
       "θ1   -0.496141  0.124847 -3.97398   0.0002\n",
       "θ2    0.690706  0.125472  5.50486    <1e-6\n",
       "β1    0.566392  0.104653   5.4121    <1e-6\n",
       "β2     1.28881  0.127156  10.1357   <1e-14\n",
       "β3   -0.572352  0.119238 -4.80008    <1e-5\n",
       "β4   -0.366182  0.155173 -2.35983   0.0213\n",
       "β5    -1.09101  0.151486 -7.20206    <1e-9\n",
       "β6    0.360284 0.0955358   3.7712   0.0004\n"
      ]
     },
     "execution_count": 5,
     "metadata": {},
     "output_type": "execute_result"
    }
   ],
   "source": [
    "house_po = polr(@formula(Sat ~ 0 + Infl + Type + Cont), housing; wts = housing[:Freq])"
   ]
  },
  {
   "cell_type": "markdown",
   "metadata": {},
   "source": [
    "!!! note\n",
    "\n",
    "    It is necessary to **exclude intercept** in formula because ordered multinomial model automatically includes intercept for properly modeling.\n",
    "\n",
    "!!!\n",
    "\n",
    "Since there are $J=3$ categories in `Sat`, the fitted model has two intercept parameters that satisfy $\\theta_1 \\le \\theta_2$. $\\beta_j$ are regression coefficients for predictors. $\\beta_1, \\beta_2$ for `Infl` (3 levels), $\\beta_3, \\beta_4, \\beta_5$ for `Type` (4 levels), and $\\beta_6$ for `Cont` (2 levels). \n",
    "\n",
    "Deviance (-2 loglikelihood) of the fitted model is"
   ]
  },
  {
   "cell_type": "code",
   "execution_count": 6,
   "metadata": {},
   "outputs": [
    {
     "data": {
      "text/plain": [
       "3479.149299072586"
      ]
     },
     "execution_count": 6,
     "metadata": {},
     "output_type": "execute_result"
    }
   ],
   "source": [
    "deviance(house_po)"
   ]
  },
  {
   "cell_type": "markdown",
   "metadata": {},
   "source": [
    "Estimated regression coefficients are"
   ]
  },
  {
   "cell_type": "code",
   "execution_count": 7,
   "metadata": {},
   "outputs": [
    {
     "data": {
      "text/plain": [
       "8-element Array{Float64,1}:\n",
       " -0.49614061341454607\n",
       "  0.6907056439400201 \n",
       "  0.5663915864515744 \n",
       "  1.2888108250034271 \n",
       " -0.5723518911944651 \n",
       " -0.3661822718560424 \n",
       " -1.091011574737562  \n",
       "  0.3602844417528419 "
      ]
     },
     "execution_count": 7,
     "metadata": {},
     "output_type": "execute_result"
    }
   ],
   "source": [
    "coef(house_po)"
   ]
  },
  {
   "cell_type": "markdown",
   "metadata": {},
   "source": [
    "with standard errors"
   ]
  },
  {
   "cell_type": "code",
   "execution_count": 8,
   "metadata": {},
   "outputs": [
    {
     "data": {
      "text/plain": [
       "8-element Array{Float64,1}:\n",
       " 0.12484725578571429\n",
       " 0.12547194322484329\n",
       " 0.10465278622775005\n",
       " 0.12715610075413825\n",
       " 0.1192380112188433 \n",
       " 0.15517334323365534\n",
       " 0.15148598827529147\n",
       " 0.09553578572175248"
      ]
     },
     "execution_count": 8,
     "metadata": {},
     "output_type": "execute_result"
    }
   ],
   "source": [
    "stderror(house_po)"
   ]
  },
  {
   "cell_type": "markdown",
   "metadata": {},
   "source": [
    "### Ordered probit model\n",
    "\n",
    "To fit an ordered multinomial model using default link `link=ProbitLink()`, i.e., ordered probit model"
   ]
  },
  {
   "cell_type": "code",
   "execution_count": 9,
   "metadata": {},
   "outputs": [
    {
     "data": {
      "text/plain": [
       "StatsModels.DataFrameRegressionModel{PolrModel{Int64,Float64,ProbitLink},Array{Float64,2}}\n",
       "\n",
       "Formula: Sat ~ Infl + Type + Cont\n",
       "\n",
       "Coefficients:\n",
       "      Estimate Std.Error  t value Pr(>|t|)\n",
       "θ1   -0.299829 0.0761537 -3.93716   0.0002\n",
       "θ2     0.42672 0.0764043  5.58502    <1e-6\n",
       "β1    0.346423 0.0641371  5.40129    <1e-5\n",
       "β2    0.782914 0.0764262  10.2441   <1e-14\n",
       "β3   -0.347538 0.0722909 -4.80749    <1e-5\n",
       "β4   -0.217889 0.0947661 -2.29923   0.0248\n",
       "β5   -0.664175    0.0918 -7.23502    <1e-9\n",
       "β6    0.222386 0.0581227  3.82616   0.0003\n"
      ]
     },
     "execution_count": 9,
     "metadata": {},
     "output_type": "execute_result"
    }
   ],
   "source": [
    "house_op = polr(@formula(Sat ~ 0 + Infl + Type + Cont), housing, ProbitLink(); wts = housing[:Freq])"
   ]
  },
  {
   "cell_type": "code",
   "execution_count": 10,
   "metadata": {},
   "outputs": [
    {
     "data": {
      "text/plain": [
       "3479.6888425652414"
      ]
     },
     "execution_count": 10,
     "metadata": {},
     "output_type": "execute_result"
    }
   ],
   "source": [
    "deviance(house_op)"
   ]
  },
  {
   "cell_type": "markdown",
   "metadata": {},
   "source": [
    "### Proportional hazards model\n",
    "\n",
    "To fit an ordered multinomial model using default link `link=CloglogLink()`, i.e., proportional hazards model"
   ]
  },
  {
   "cell_type": "code",
   "execution_count": 11,
   "metadata": {},
   "outputs": [
    {
     "data": {
      "text/plain": [
       "StatsModels.DataFrameRegressionModel{PolrModel{Int64,Float64,CloglogLink},Array{Float64,2}}\n",
       "\n",
       "Formula: Sat ~ Infl + Type + Cont\n",
       "\n",
       "Coefficients:\n",
       "      Estimate Std.Error  t value Pr(>|t|)\n",
       "θ1   -0.796225 0.0896499 -8.88149   <1e-12\n",
       "θ2   0.0553535 0.0855972 0.646674   0.5202\n",
       "β1    0.382045 0.0702599  5.43759    <1e-6\n",
       "β2    0.915384 0.0925608  9.88954   <1e-13\n",
       "β3   -0.407228 0.0860718 -4.73125    <1e-4\n",
       "β4    -0.28056   0.11115 -2.52416   0.0141\n",
       "β5   -0.742481  0.101331 -7.32728    <1e-9\n",
       "β6    0.209235 0.0651057  3.21377   0.0021\n"
      ]
     },
     "execution_count": 11,
     "metadata": {},
     "output_type": "execute_result"
    }
   ],
   "source": [
    "house_ph = polr(@formula(Sat ~ 0 + Infl + Type + Cont), housing, CloglogLink(); wts = housing[:Freq])"
   ]
  },
  {
   "cell_type": "code",
   "execution_count": 12,
   "metadata": {},
   "outputs": [
    {
     "data": {
      "text/plain": [
       "3484.0531705626913"
      ]
     },
     "execution_count": 12,
     "metadata": {},
     "output_type": "execute_result"
    }
   ],
   "source": [
    "deviance(house_ph)"
   ]
  },
  {
   "cell_type": "markdown",
   "metadata": {},
   "source": [
    "From the deviances, we see the proportional odds model (logit link) has the best fit among all three models."
   ]
  },
  {
   "cell_type": "code",
   "execution_count": 13,
   "metadata": {},
   "outputs": [
    {
     "name": "stdout",
     "output_type": "stream",
     "text": [
      "(deviance(house_po), deviance(house_op), deviance(house_ph)) = (3479.149299072586, 3479.6888425652414, 3484.0531705626913)\n"
     ]
    },
    {
     "data": {
      "text/plain": [
       "(3479.149299072586, 3479.6888425652414, 3484.0531705626913)"
      ]
     },
     "execution_count": 13,
     "metadata": {},
     "output_type": "execute_result"
    }
   ],
   "source": [
    "@show deviance(house_po), deviance(house_op), deviance(house_ph)"
   ]
  },
  {
   "cell_type": "markdown",
   "metadata": {},
   "source": [
    "### Alternative syntax without using DataFrame\n",
    "\n",
    "An alternative syntax is useful when it is inconvenient to use DataFrame\n",
    "```julia\n",
    "polr(X, y, link, solver; wts)\n",
    "```\n",
    "where `y` is the response vector and `X` is the `n x p` predictor matrix **excluding** intercept."
   ]
  },
  {
   "cell_type": "markdown",
   "metadata": {},
   "source": [
    "## Optimization algorithms\n",
    "\n",
    "PolrModels.jl relies on nonlinear programming (NLP) optimization algorithms to find the maximum likelihood estimate (MLE). User can input any solver supported by the MathProgBase.jl package (see <http://www.juliaopt.org>) as the 4th argument of `polr` function. Common choices are:  \n",
    "- Ipopt solver: `IpoptSolver(print_level=0)`. See [Ipopt.jl](https://github.com/JuliaOpt/Ipopt.jl) for numerous arugments to `IpoptSolver`. For example, setting `print_level=5` is useful for diagnosis purpose.   \n",
    "- [NLopt package](https://github.com/JuliaOpt/NLopt.jl): `NLoptSolver(algorithm=:LD_SLSQP)`, NLoptSolver(algorithm=:LD_LBFGS). See [NLopt algorithms](https://nlopt.readthedocs.io/en/latest/NLopt_Algorithms/) for all algorithms in NLopt.jl.\n",
    "\n",
    "When optimization fails, user can always try another algorithm."
   ]
  },
  {
   "cell_type": "markdown",
   "metadata": {},
   "source": [
    "Use Ipopt (interior-point) solver"
   ]
  },
  {
   "cell_type": "code",
   "execution_count": 14,
   "metadata": {},
   "outputs": [
    {
     "name": "stdout",
     "output_type": "stream",
     "text": [
      "\n",
      "******************************************************************************\n",
      "This program contains Ipopt, a library for large-scale nonlinear optimization.\n",
      " Ipopt is released as open source code under the Eclipse Public License (EPL).\n",
      "         For more information visit http://projects.coin-or.org/Ipopt\n",
      "******************************************************************************\n",
      "\n",
      "Total number of variables............................:        8\n",
      "                     variables with only lower bounds:        0\n",
      "                variables with lower and upper bounds:        0\n",
      "                     variables with only upper bounds:        0\n",
      "Total number of equality constraints.................:        0\n",
      "Total number of inequality constraints...............:        0\n",
      "        inequality constraints with only lower bounds:        0\n",
      "   inequality constraints with lower and upper bounds:        0\n",
      "        inequality constraints with only upper bounds:        0\n",
      "\n",
      "\n",
      "Number of Iterations....: 38\n",
      "\n",
      "                                   (scaled)                 (unscaled)\n",
      "Objective...............:   2.0594068522767617e+02    1.7395746495294738e+03\n",
      "Dual infeasibility......:   8.1478478823959181e-09    6.8824621073629131e-08\n",
      "Constraint violation....:   0.0000000000000000e+00    0.0000000000000000e+00\n",
      "Complementarity.........:   0.0000000000000000e+00    0.0000000000000000e+00\n",
      "Overall NLP error.......:   8.1478478823959181e-09    6.8824621073629131e-08\n",
      "\n",
      "\n",
      "Number of objective function evaluations             = 91\n",
      "Number of objective gradient evaluations             = 39\n",
      "Number of equality constraint evaluations            = 0\n",
      "Number of inequality constraint evaluations          = 0\n",
      "Number of equality constraint Jacobian evaluations   = 0\n",
      "Number of inequality constraint Jacobian evaluations = 0\n",
      "Number of Lagrangian Hessian evaluations             = 0\n",
      "Total CPU secs in IPOPT (w/o function evaluations)   =      0.065\n",
      "Total CPU secs in NLP function evaluations           =      0.006\n",
      "\n",
      "EXIT: Optimal Solution Found.\n"
     ]
    },
    {
     "data": {
      "text/plain": [
       "StatsModels.DataFrameRegressionModel{PolrModel{Int64,Float64,LogitLink},Array{Float64,2}}\n",
       "\n",
       "Formula: Sat ~ Infl + Type + Cont\n",
       "\n",
       "Coefficients:\n",
       "      Estimate Std.Error  t value Pr(>|t|)\n",
       "θ1   -0.496135  0.124847 -3.97394   0.0002\n",
       "θ2    0.690708  0.125472  5.50488    <1e-6\n",
       "β1    0.566394  0.104653  5.41212    <1e-6\n",
       "β2     1.28882  0.127156  10.1357   <1e-14\n",
       "β3    -0.57235  0.119238 -4.80006    <1e-5\n",
       "β4   -0.366186  0.155173 -2.35985   0.0213\n",
       "β5    -1.09101  0.151486 -7.20208    <1e-9\n",
       "β6    0.360284 0.0955358  3.77119   0.0004\n"
      ]
     },
     "execution_count": 14,
     "metadata": {},
     "output_type": "execute_result"
    }
   ],
   "source": [
    "polr(@formula(Sat ~ 0 + Infl + Type + Cont), housing, LogitLink(), IpoptSolver(print_level=3); wts = housing[:Freq])"
   ]
  },
  {
   "cell_type": "markdown",
   "metadata": {},
   "source": [
    "Use SLSQP (sequential quadratic programming) in NLopt.jl package"
   ]
  },
  {
   "cell_type": "code",
   "execution_count": 15,
   "metadata": {},
   "outputs": [
    {
     "data": {
      "text/plain": [
       "StatsModels.DataFrameRegressionModel{PolrModel{Int64,Float64,LogitLink},Array{Float64,2}}\n",
       "\n",
       "Formula: Sat ~ Infl + Type + Cont\n",
       "\n",
       "Coefficients:\n",
       "      Estimate Std.Error  t value Pr(>|t|)\n",
       "θ1   -0.496141  0.124847 -3.97398   0.0002\n",
       "θ2    0.690706  0.125472  5.50486    <1e-6\n",
       "β1    0.566392  0.104653   5.4121    <1e-6\n",
       "β2     1.28881  0.127156  10.1357   <1e-14\n",
       "β3   -0.572352  0.119238 -4.80008    <1e-5\n",
       "β4   -0.366182  0.155173 -2.35983   0.0213\n",
       "β5    -1.09101  0.151486 -7.20206    <1e-9\n",
       "β6    0.360284 0.0955358   3.7712   0.0004\n"
      ]
     },
     "execution_count": 15,
     "metadata": {},
     "output_type": "execute_result"
    }
   ],
   "source": [
    "polr(@formula(Sat ~ 0 + Infl + Type + Cont), housing, LogitLink(), NLoptSolver(algorithm=:LD_SLSQP); wts = housing[:Freq])"
   ]
  },
  {
   "cell_type": "markdown",
   "metadata": {},
   "source": [
    "Use LBFGS (quasi-Newton algorithm) in NLopt.jl package"
   ]
  },
  {
   "cell_type": "code",
   "execution_count": 16,
   "metadata": {},
   "outputs": [
    {
     "data": {
      "text/plain": [
       "StatsModels.DataFrameRegressionModel{PolrModel{Int64,Float64,LogitLink},Array{Float64,2}}\n",
       "\n",
       "Formula: Sat ~ Infl + Type + Cont\n",
       "\n",
       "Coefficients:\n",
       "      Estimate Std.Error  t value Pr(>|t|)\n",
       "θ1   -0.496111  0.124847 -3.97375   0.0002\n",
       "θ2    0.690732  0.125472  5.50507    <1e-6\n",
       "β1    0.566394  0.104653  5.41212    <1e-6\n",
       "β2     1.28882  0.127156  10.1357   <1e-14\n",
       "β3   -0.572352  0.119238 -4.80008    <1e-5\n",
       "β4    -0.36616  0.155173 -2.35968   0.0214\n",
       "β5    -1.09102  0.151486 -7.20212    <1e-9\n",
       "β6    0.360319 0.0955359  3.77156   0.0004\n"
      ]
     },
     "execution_count": 16,
     "metadata": {},
     "output_type": "execute_result"
    }
   ],
   "source": [
    "polr(@formula(Sat ~ 0 + Infl + Type + Cont), housing, LogitLink(), NLoptSolver(algorithm=:LD_LBFGS); wts = housing[:Freq])"
   ]
  },
  {
   "cell_type": "markdown",
   "metadata": {},
   "source": [
    "## Likelihood ratio test (LRT)\n",
    "\n",
    "`polr` function calculates the Wald test (or t-test) p-value for each predictor in the model.\n",
    "\n",
    "Step 1: Fit the null model with only `Infl` and `Type` factors."
   ]
  },
  {
   "cell_type": "code",
   "execution_count": 17,
   "metadata": {},
   "outputs": [
    {
     "data": {
      "text/plain": [
       "StatsModels.DataFrameRegressionModel{PolrModel{Int64,Float64,LogitLink},Array{Float64,2}}\n",
       "\n",
       "Formula: Sat ~ Infl + Type\n",
       "\n",
       "Coefficients:\n",
       "      Estimate Std.Error  t value Pr(>|t|)\n",
       "θ1   -0.672949  0.115689  -5.8169    <1e-6\n",
       "θ2    0.505629  0.115203  4.38903    <1e-4\n",
       "β1    0.548392  0.104308  5.25743    <1e-5\n",
       "β2      1.2373  0.125978  9.82155   <1e-13\n",
       "β3   -0.521441  0.118215 -4.41094    <1e-4\n",
       "β4   -0.289347  0.153387 -1.88639   0.0637\n",
       "β5    -1.01404  0.149562 -6.78008    <1e-8\n"
      ]
     },
     "execution_count": 17,
     "metadata": {},
     "output_type": "execute_result"
    }
   ],
   "source": [
    "house_null = polr(@formula(Sat ~ 0 + Infl + Type), housing; wts = housing[:Freq])"
   ]
  },
  {
   "cell_type": "markdown",
   "metadata": {},
   "source": [
    "Step 2: To test significance of the `Cont` variable, we use `polrtest` function. The first argument is the fitted null model, the second argument is the predictor vector to be tested"
   ]
  },
  {
   "cell_type": "code",
   "execution_count": 18,
   "metadata": {},
   "outputs": [
    {
     "data": {
      "text/plain": [
       "0.000155351855453278"
      ]
     },
     "execution_count": 18,
     "metadata": {},
     "output_type": "execute_result"
    }
   ],
   "source": [
    "# last column of model matrix is coding for Cont (2-level factor)\n",
    "cont = modelmatrix(house_po.model)[:, end]\n",
    "# calculate p-value\n",
    "polrtest(house_null, cont; test=:LRT)"
   ]
  },
  {
   "cell_type": "markdown",
   "metadata": {},
   "source": [
    "## Score test\n",
    "\n",
    "User can perform **score test** using the `polrtest` function. Score test has the advantage that, when testing a huge number of predictors such as in genomewide association studies (GWAS), one only needs to fit the null model once and then testing each predictor is cheap. Both Wald and likelihood ratio test (LRT) need to fit a separate alternative model for each predictor being tested.\n",
    "\n",
    "Step 1: Fit the null model with only `Infl` and `Type` factors."
   ]
  },
  {
   "cell_type": "code",
   "execution_count": 19,
   "metadata": {},
   "outputs": [
    {
     "data": {
      "text/plain": [
       "StatsModels.DataFrameRegressionModel{PolrModel{Int64,Float64,LogitLink},Array{Float64,2}}\n",
       "\n",
       "Formula: Sat ~ Infl + Type\n",
       "\n",
       "Coefficients:\n",
       "      Estimate Std.Error  t value Pr(>|t|)\n",
       "θ1   -0.672949  0.115689  -5.8169    <1e-6\n",
       "θ2    0.505629  0.115203  4.38903    <1e-4\n",
       "β1    0.548392  0.104308  5.25743    <1e-5\n",
       "β2      1.2373  0.125978  9.82155   <1e-13\n",
       "β3   -0.521441  0.118215 -4.41094    <1e-4\n",
       "β4   -0.289347  0.153387 -1.88639   0.0637\n",
       "β5    -1.01404  0.149562 -6.78008    <1e-8\n"
      ]
     },
     "execution_count": 19,
     "metadata": {},
     "output_type": "execute_result"
    }
   ],
   "source": [
    "house_null = polr(@formula(Sat ~ 0 + Infl + Type), housing; wts = housing[:Freq])"
   ]
  },
  {
   "cell_type": "markdown",
   "metadata": {},
   "source": [
    "Step 2: To test significance of the `Cont` variable, we use `polrtest` function. The first argument is the fitted null model, the second argument is the predictor vector to be tested"
   ]
  },
  {
   "cell_type": "code",
   "execution_count": 20,
   "metadata": {},
   "outputs": [
    {
     "data": {
      "text/plain": [
       "0.00015872510523744766"
      ]
     },
     "execution_count": 20,
     "metadata": {},
     "output_type": "execute_result"
    }
   ],
   "source": [
    "# last column of model matrix is coding for Cont (2-level factor)\n",
    "cont = modelmatrix(house_po.model)[:, end]\n",
    "# calculate p-value\n",
    "polrtest(house_null, cont; test=:score)"
   ]
  },
  {
   "cell_type": "markdown",
   "metadata": {},
   "source": [
    "Step 3: Now suppose we want to test significance of another predictor, `z1`. We just need to call `polrtest` with `z1` and the same fiited null model. No model fitting is needed.\n",
    "\n",
    "For demonstration purpose, we generate `z1` randomly. The score test p-value of `z1` is, not suprisingly, large."
   ]
  },
  {
   "cell_type": "code",
   "execution_count": 21,
   "metadata": {},
   "outputs": [
    {
     "data": {
      "text/plain": [
       "3.223037126997464e-37"
      ]
     },
     "execution_count": 21,
     "metadata": {},
     "output_type": "execute_result"
    }
   ],
   "source": [
    "z1 = randn(nobs(house_null))\n",
    "polrtest(house_null, z1)"
   ]
  },
  {
   "cell_type": "markdown",
   "metadata": {},
   "source": [
    "Step 4: We can also test a set of precitors or a factor."
   ]
  },
  {
   "cell_type": "code",
   "execution_count": 22,
   "metadata": {},
   "outputs": [
    {
     "data": {
      "text/plain": [
       "0.5274404103882856"
      ]
     },
     "execution_count": 22,
     "metadata": {},
     "output_type": "execute_result"
    }
   ],
   "source": [
    "z3 = randn(nobs(house_null), 3)\n",
    "polrtest(house_null, z3)"
   ]
  }
 ],
 "metadata": {
  "kernelspec": {
   "display_name": "Julia 0.7.0",
   "language": "julia",
   "name": "julia-0.7"
  },
  "language_info": {
   "file_extension": ".jl",
   "mimetype": "application/julia",
   "name": "julia",
   "version": "0.7.0"
  },
  "toc": {
   "colors": {
    "hover_highlight": "#DAA520",
    "running_highlight": "#FF0000",
    "selected_highlight": "#FFD700"
   },
   "moveMenuLeft": true,
   "nav_menu": {
    "height": "210px",
    "width": "252px"
   },
   "navigate_menu": true,
   "number_sections": true,
   "sideBar": true,
   "threshold": 4,
   "toc_cell": false,
   "toc_section_display": "block",
   "toc_window_display": false,
   "widenNotebook": false
  }
 },
 "nbformat": 4,
 "nbformat_minor": 2
}
